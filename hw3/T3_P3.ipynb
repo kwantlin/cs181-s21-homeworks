{
  "nbformat": 4,
  "nbformat_minor": 0,
  "metadata": {
    "accelerator": "GPU",
    "colab": {
      "name": "T3_P3.ipynb",
      "provenance": [],
      "collapsed_sections": []
    },
    "kernelspec": {
      "display_name": "Python 3",
      "language": "python",
      "name": "python3"
    },
    "language_info": {
      "codemirror_mode": {
        "name": "ipython",
        "version": 3
      },
      "file_extension": ".py",
      "mimetype": "text/x-python",
      "name": "python",
      "nbconvert_exporter": "python",
      "pygments_lexer": "ipython3",
      "version": "3.6.2"
    },
    "widgets": {
      "application/vnd.jupyter.widget-state+json": {
        "439b744be1c2457389a11f9361a59c40": {
          "model_module": "@jupyter-widgets/controls",
          "model_name": "HBoxModel",
          "state": {
            "_view_name": "HBoxView",
            "_dom_classes": [],
            "_model_name": "HBoxModel",
            "_view_module": "@jupyter-widgets/controls",
            "_model_module_version": "1.5.0",
            "_view_count": null,
            "_view_module_version": "1.5.0",
            "box_style": "",
            "layout": "IPY_MODEL_334e14f9343a4072af2b3a1f66a7d8ea",
            "_model_module": "@jupyter-widgets/controls",
            "children": [
              "IPY_MODEL_b077a710046346af9637119175b95198",
              "IPY_MODEL_3b0650614104473b8b72c5c038e6232d"
            ]
          }
        },
        "334e14f9343a4072af2b3a1f66a7d8ea": {
          "model_module": "@jupyter-widgets/base",
          "model_name": "LayoutModel",
          "state": {
            "_view_name": "LayoutView",
            "grid_template_rows": null,
            "right": null,
            "justify_content": null,
            "_view_module": "@jupyter-widgets/base",
            "overflow": null,
            "_model_module_version": "1.2.0",
            "_view_count": null,
            "flex_flow": null,
            "width": null,
            "min_width": null,
            "border": null,
            "align_items": null,
            "bottom": null,
            "_model_module": "@jupyter-widgets/base",
            "top": null,
            "grid_column": null,
            "overflow_y": null,
            "overflow_x": null,
            "grid_auto_flow": null,
            "grid_area": null,
            "grid_template_columns": null,
            "flex": null,
            "_model_name": "LayoutModel",
            "justify_items": null,
            "grid_row": null,
            "max_height": null,
            "align_content": null,
            "visibility": null,
            "align_self": null,
            "height": null,
            "min_height": null,
            "padding": null,
            "grid_auto_rows": null,
            "grid_gap": null,
            "max_width": null,
            "order": null,
            "_view_module_version": "1.2.0",
            "grid_template_areas": null,
            "object_position": null,
            "object_fit": null,
            "grid_auto_columns": null,
            "margin": null,
            "display": null,
            "left": null
          }
        },
        "b077a710046346af9637119175b95198": {
          "model_module": "@jupyter-widgets/controls",
          "model_name": "FloatProgressModel",
          "state": {
            "_view_name": "ProgressView",
            "style": "IPY_MODEL_cbeea1e1370841888a210b47852e29ba",
            "_dom_classes": [],
            "description": "",
            "_model_name": "FloatProgressModel",
            "bar_style": "success",
            "max": 1,
            "_view_module": "@jupyter-widgets/controls",
            "_model_module_version": "1.5.0",
            "value": 1,
            "_view_count": null,
            "_view_module_version": "1.5.0",
            "orientation": "horizontal",
            "min": 0,
            "description_tooltip": null,
            "_model_module": "@jupyter-widgets/controls",
            "layout": "IPY_MODEL_f36a15e3f7ce4790bf1c49860911717b"
          }
        },
        "3b0650614104473b8b72c5c038e6232d": {
          "model_module": "@jupyter-widgets/controls",
          "model_name": "HTMLModel",
          "state": {
            "_view_name": "HTMLView",
            "style": "IPY_MODEL_2e27c107db874b69819e565ff8e31736",
            "_dom_classes": [],
            "description": "",
            "_model_name": "HTMLModel",
            "placeholder": "​",
            "_view_module": "@jupyter-widgets/controls",
            "_model_module_version": "1.5.0",
            "value": " 170500096/? [00:05&lt;00:00, 31351345.33it/s]",
            "_view_count": null,
            "_view_module_version": "1.5.0",
            "description_tooltip": null,
            "_model_module": "@jupyter-widgets/controls",
            "layout": "IPY_MODEL_f2d3ad6152bf43d6a8f62a6999ffc9f1"
          }
        },
        "cbeea1e1370841888a210b47852e29ba": {
          "model_module": "@jupyter-widgets/controls",
          "model_name": "ProgressStyleModel",
          "state": {
            "_view_name": "StyleView",
            "_model_name": "ProgressStyleModel",
            "description_width": "initial",
            "_view_module": "@jupyter-widgets/base",
            "_model_module_version": "1.5.0",
            "_view_count": null,
            "_view_module_version": "1.2.0",
            "bar_color": null,
            "_model_module": "@jupyter-widgets/controls"
          }
        },
        "f36a15e3f7ce4790bf1c49860911717b": {
          "model_module": "@jupyter-widgets/base",
          "model_name": "LayoutModel",
          "state": {
            "_view_name": "LayoutView",
            "grid_template_rows": null,
            "right": null,
            "justify_content": null,
            "_view_module": "@jupyter-widgets/base",
            "overflow": null,
            "_model_module_version": "1.2.0",
            "_view_count": null,
            "flex_flow": null,
            "width": null,
            "min_width": null,
            "border": null,
            "align_items": null,
            "bottom": null,
            "_model_module": "@jupyter-widgets/base",
            "top": null,
            "grid_column": null,
            "overflow_y": null,
            "overflow_x": null,
            "grid_auto_flow": null,
            "grid_area": null,
            "grid_template_columns": null,
            "flex": null,
            "_model_name": "LayoutModel",
            "justify_items": null,
            "grid_row": null,
            "max_height": null,
            "align_content": null,
            "visibility": null,
            "align_self": null,
            "height": null,
            "min_height": null,
            "padding": null,
            "grid_auto_rows": null,
            "grid_gap": null,
            "max_width": null,
            "order": null,
            "_view_module_version": "1.2.0",
            "grid_template_areas": null,
            "object_position": null,
            "object_fit": null,
            "grid_auto_columns": null,
            "margin": null,
            "display": null,
            "left": null
          }
        },
        "2e27c107db874b69819e565ff8e31736": {
          "model_module": "@jupyter-widgets/controls",
          "model_name": "DescriptionStyleModel",
          "state": {
            "_view_name": "StyleView",
            "_model_name": "DescriptionStyleModel",
            "description_width": "",
            "_view_module": "@jupyter-widgets/base",
            "_model_module_version": "1.5.0",
            "_view_count": null,
            "_view_module_version": "1.2.0",
            "_model_module": "@jupyter-widgets/controls"
          }
        },
        "f2d3ad6152bf43d6a8f62a6999ffc9f1": {
          "model_module": "@jupyter-widgets/base",
          "model_name": "LayoutModel",
          "state": {
            "_view_name": "LayoutView",
            "grid_template_rows": null,
            "right": null,
            "justify_content": null,
            "_view_module": "@jupyter-widgets/base",
            "overflow": null,
            "_model_module_version": "1.2.0",
            "_view_count": null,
            "flex_flow": null,
            "width": null,
            "min_width": null,
            "border": null,
            "align_items": null,
            "bottom": null,
            "_model_module": "@jupyter-widgets/base",
            "top": null,
            "grid_column": null,
            "overflow_y": null,
            "overflow_x": null,
            "grid_auto_flow": null,
            "grid_area": null,
            "grid_template_columns": null,
            "flex": null,
            "_model_name": "LayoutModel",
            "justify_items": null,
            "grid_row": null,
            "max_height": null,
            "align_content": null,
            "visibility": null,
            "align_self": null,
            "height": null,
            "min_height": null,
            "padding": null,
            "grid_auto_rows": null,
            "grid_gap": null,
            "max_width": null,
            "order": null,
            "_view_module_version": "1.2.0",
            "grid_template_areas": null,
            "object_position": null,
            "object_fit": null,
            "grid_auto_columns": null,
            "margin": null,
            "display": null,
            "left": null
          }
        }
      }
    }
  },
  "cells": [
    {
      "cell_type": "markdown",
      "metadata": {
        "id": "T7HLdN6RHIoB"
      },
      "source": [
        "## This notebook contains a **tutorial** followed by **Problem 3 of Homework 3**, both of which are based on PyTorch."
      ]
    },
    {
      "cell_type": "markdown",
      "metadata": {
        "id": "2biosIind-6h"
      },
      "source": [
        "### To complete this problem, please upload this .ipynb (Notebook) file **to Google Colab.** (You'll need to use Colab because it supports GPU and has all the necessary packages pre-installed.) When you're finished, go to \"File -> Download .ipynb\" and submit your .ipynb notebook as a supplemental file.\n",
        "\n",
        "### This notebook has instructions for several homework problems.  ***You must write your answers to these problems in your PDF submission file.*** Your Colab notebook will not be graded, so please make sure you transfer all deliverables (including plots and written work) to your PDF.  "
      ]
    },
    {
      "cell_type": "code",
      "metadata": {
        "collapsed": true,
        "id": "LTOxErZWluNP"
      },
      "source": [
        "import torch\n",
        "import numpy as np\n",
        "import math"
      ],
      "execution_count": null,
      "outputs": []
    },
    {
      "cell_type": "markdown",
      "metadata": {
        "id": "Op_QDEYGhCqL"
      },
      "source": [
        "So far in CS 181, we've been using numpy and scikit-learn to write ML code. In this tutorial, we'll introduce you to **PyTorch**, the ML library of choice for industry and academia.\n",
        "\n",
        "**Before working through this notebook, make sure that the runtime type is set to GPU.** Follow Edit -> Notebook settings -> and select GPU as the hardware accelerator."
      ]
    },
    {
      "cell_type": "markdown",
      "metadata": {
        "id": "K99RHUFel7yJ"
      },
      "source": [
        "# Tutorial: Getting to Know PyTorch - Key Concepts\n",
        "\n",
        "### Why PyTorch?\n",
        "\n",
        "PyTorch...\n",
        "*   Provides flexible building blocks for building customizable models, including neural network layers, activation functions, and optimization algorithms\n",
        "*   Can automatically compute gradients, making backpropagation a breeze!\n",
        "*   Can accelerate computation on GPUs"
      ]
    },
    {
      "cell_type": "markdown",
      "metadata": {
        "id": "1OqXiibkjd8b"
      },
      "source": [
        "## Tensors\n",
        "\n",
        "Tensors are the basic units of storage and computation in PyTorch. They are very similar to NumPy arrays, and follow the same syntax for indexing and for most arithmetic operations.\n"
      ]
    },
    {
      "cell_type": "code",
      "metadata": {
        "colab": {
          "base_uri": "https://localhost:8080/"
        },
        "id": "VQ6v6uTCjcqm",
        "outputId": "7e80cbaa-cbaf-4a21-d428-d5108c5d2ddf"
      },
      "source": [
        "# Basic tensor operations\n",
        "x_tensor = torch.tensor([1, 2, 3, 4, 5])\n",
        "y_tensor = torch.ones((2, 5))\n",
        "prod = x_tensor * y_tensor[1,:]\n",
        "print(prod, prod.shape) # Use .shape to view shape just as in NumPy"
      ],
      "execution_count": null,
      "outputs": [
        {
          "output_type": "stream",
          "text": [
            "tensor([1., 2., 3., 4., 5.]) torch.Size([5])\n"
          ],
          "name": "stdout"
        }
      ]
    },
    {
      "cell_type": "code",
      "metadata": {
        "collapsed": true,
        "id": "t1POkPN7oHDl"
      },
      "source": [
        "# Easy conversion between PyTorch and Numpy\n",
        "x_numpy = np.array([1, 2, 3, 4, 5])\n",
        "assert (x_tensor.numpy() == x_numpy).all()\n",
        "assert (x_tensor == torch.from_numpy(x_numpy)).all()"
      ],
      "execution_count": null,
      "outputs": []
    },
    {
      "cell_type": "markdown",
      "metadata": {
        "id": "s0ovXbiFmMA_"
      },
      "source": [
        "What makes tensors **different** from NumPy arrays is:\n",
        "\n",
        "1. They support GPU acceleration.\n",
        "2. They contain additional information (accessed as attributes, which we will see later) which facilitate the easy building and training of neural networks, via **computation graphs** and **gradients**."
      ]
    },
    {
      "cell_type": "markdown",
      "metadata": {
        "id": "At9t1bdM7vp_"
      },
      "source": [
        "## A motivating example\n",
        "\n",
        "To see the advantages of PyTorch in action, let's first take a look at how one might train a simple model using only NumPy:"
      ]
    },
    {
      "cell_type": "code",
      "metadata": {
        "colab": {
          "base_uri": "https://localhost:8080/"
        },
        "id": "jJo7qe3_77c_",
        "outputId": "0b5436a2-9f8e-431e-f015-c3aa88e197e2"
      },
      "source": [
        "import numpy as np\n",
        "import math\n",
        "\n",
        "# Create 2000 random input and output data points\n",
        "x = np.linspace(-math.pi, math.pi, 2000)\n",
        "y = np.sin(x)\n",
        "\n",
        "# Step 0 - Initialization: Initialize model parameters (randomly, in this example)\n",
        "a = np.random.randn()\n",
        "b = np.random.randn()\n",
        "c = np.random.randn()\n",
        "d = np.random.randn()\n",
        "\n",
        "learning_rate = 1e-6\n",
        "for t in range(2000):\n",
        "    # Step 1 - Forward Pass: compute predicted y according to the following model:\n",
        "    # y = a + b x + c x^2 + d x^3\n",
        "    y_pred = a + b * x + c * x ** 2 + d * x ** 3\n",
        "\n",
        "    # Step 2 - Compute Loss (MSE in this example)\n",
        "    loss = np.square(y_pred - y).sum() # Sum across 2000 training points\n",
        "    if t % 100 == 0:\n",
        "        print(f'Epoch {t}: loss {loss}')\n",
        "\n",
        "    # Step 3 - Differentiate: Use backprop (chain rule) to compute gradients\n",
        "    # of the loss function with respect to a, b, c, d\n",
        "    grad_y_pred = 2.0 * (y_pred - y)\n",
        "    grad_a = grad_y_pred.sum() # Sum across 2000 training points\n",
        "    grad_b = (grad_y_pred * x).sum()\n",
        "    grad_c = (grad_y_pred * x ** 2).sum()\n",
        "    grad_d = (grad_y_pred * x ** 3).sum()\n",
        "\n",
        "    # Step 4 - Optimize: Update weights (vanilla GD in this example)\n",
        "    a -= learning_rate * grad_a\n",
        "    b -= learning_rate * grad_b\n",
        "    c -= learning_rate * grad_c\n",
        "    d -= learning_rate * grad_d\n",
        "\n",
        "print(f'Result: y = {a} + {b} x + {c} x^2 + {d} x^3')\n",
        "\n",
        "# From: https://pytorch.org/tutorials/beginner/pytorch_with_examples.html"
      ],
      "execution_count": null,
      "outputs": [
        {
          "output_type": "stream",
          "text": [
            "Epoch 0: loss 96741.02537901758\n",
            "Epoch 100: loss 899.4745411548233\n",
            "Epoch 200: loss 597.8871215642682\n",
            "Epoch 300: loss 398.4282794106342\n",
            "Epoch 400: loss 266.5102014511127\n",
            "Epoch 500: loss 179.2610361360413\n",
            "Epoch 600: loss 121.55455322955524\n",
            "Epoch 700: loss 83.38696371826302\n",
            "Epoch 800: loss 58.142152006220854\n",
            "Epoch 900: loss 41.4444263386048\n",
            "Epoch 1000: loss 30.399804979958827\n",
            "Epoch 1100: loss 23.094249474113354\n",
            "Epoch 1200: loss 18.261823834484098\n",
            "Epoch 1300: loss 15.065231170635537\n",
            "Epoch 1400: loss 12.950669737056435\n",
            "Epoch 1500: loss 11.551839662050646\n",
            "Epoch 1600: loss 10.626455488753315\n",
            "Epoch 1700: loss 10.014256668274339\n",
            "Epoch 1800: loss 9.609236038217087\n",
            "Epoch 1900: loss 9.341271687507636\n",
            "Result: y = -0.0020581430278558306 + 0.8747825804701485 x + 0.00035506391995293975 x^2 + -0.09589666907640013 x^3\n"
          ],
          "name": "stdout"
        }
      ]
    },
    {
      "cell_type": "markdown",
      "metadata": {
        "id": "BIfNG71OG9Jq"
      },
      "source": [
        "Each step involved in training a model is coded very explicitly in this example:\n",
        "0. Initialization: Initialize model parameters (i.e. weights)\n",
        "1. Forward Pass: Compute predictions\n",
        "2. Compute Loss\n",
        "3. Differentiate: Compute gradients via backpropagation (chain rule)\n",
        "4. Optimize: Update weights using gradients\n",
        "\n",
        "Notice how:\n",
        "- Every model parameter is stored as a variable, which contains a weight value to be continuously updated through training\n",
        "- The calculation of the gradient of the loss function with respect to the model parameters is coded explicitly and thus *model dependent*\n",
        "<!-- - The gradient of the loss function needs to be computed with respect to the model parameters explicitly using the chain rule -->\n",
        "- Each model parameter's gradient is used to update the weight value according to a particular update rule which is also explicitly implemented - in this example, standard gradient descent (GD).\n",
        "\n",
        "Steps 0 and 1 might not be so difficult using a basic package such as NumPy; however, one could imagine that steps 2 and 3 would quickly become too burdensome to implement manually for models with more parameters, both because of 1) the large number of parameters and 2) the fact that the explicit implementation of the chain rule and update rule will look different every time depending on the the model structure and optimization algorithm.\n",
        "\n",
        "This is where PyTorch's **automatic differentiation** engine, **Autograd**, is useful. As the name implies, PyTorch can take care of computing gradients and applying optimization update rules automatically under the hood, such that the code we write to invoke these two operaations will look (very nearly) the same across all models."
      ]
    },
    {
      "cell_type": "markdown",
      "metadata": {
        "id": "IcRm_01MryEd"
      },
      "source": [
        "## Computation Graphs and Autograd\n",
        "\n",
        "<!-- Old paragraphs, commented out to preserve in case we want to bring back language -->\n",
        "<!-- Autograd, PyTorch's automatic differentiation engine, is one of the best things that PyTorch has to offer when it comes to training neural networks! Recall that in order to compute gradients for weights in a neural network, you have to backpropagate errors at each node. This is computationally intensive even for a one or two layers and would be a nightmare to implement manually for very deep networks. -->\n",
        "<!-- PyTorch tensors can keep track of a *computation graph* whenever operations are performed on/between tensors. Autograd performs backprop on this computation graph, so all the steps to compute the gradient are abstracted away. To perform a gradient step update, you simply have to call built-in PyTorch functions that computes the derivative of the loss and (if you're using gradient descent) takes a step toward a gradient of zero. -->\n",
        "\n",
        "To implement automatic differentiation, PyTorch keeps track of a **computation graph** which logs every operation used to construct a certain output or mathematical expression (more on computation graphs in the [Appendix](#Appendix)). Computation graphs are created automatically whenever mathematical operations are performed using tensors as inputs. Using this graph, **Autograd** can perform backpropagation by repeated applications of the chain rule, and all of these differentiation steps are abstracted away from the user. To perform weight updates, we simply call built-in PyTorch optimizer functions which implement different update rules using the gradients computed during backpropagation.\n",
        "\n",
        "As we work through the following example, keep in mind that computation graphs in PyTorch are *implicitly* constructed when one builds mathematical expressions. That is, one will never have to write code expressly for the purpose of building such a graph; rather, the computation graph will be assembled automatically using whichever Tensors or operations are appropriately \"earmarked\" for tracking (see `requires_grad` below).\n",
        "\n",
        "Let's start with a simple example of autograd. (Original example from https://pytorch.org/tutorials/beginner/nlp/pytorch_tutorial.html.)\n"
      ]
    },
    {
      "cell_type": "code",
      "metadata": {
        "colab": {
          "base_uri": "https://localhost:8080/"
        },
        "id": "-oQ3VCa-wEnL",
        "outputId": "bee7cbaa-b143-4cfc-9e93-aa63be6a88c7"
      },
      "source": [
        "# Create tensors\n",
        "x = torch.randn(2, 2)\n",
        "y = torch.randn(2, 2)\n",
        "print('x:', x)\n",
        "print('y:', y)"
      ],
      "execution_count": null,
      "outputs": [
        {
          "output_type": "stream",
          "text": [
            "x: tensor([[ 0.4836,  0.3513],\n",
            "        [-0.6752,  0.6740]])\n",
            "y: tensor([[-0.0536, -1.9210],\n",
            "        [-0.5528,  0.0268]])\n"
          ],
          "name": "stdout"
        }
      ]
    },
    {
      "cell_type": "markdown",
      "metadata": {
        "id": "xoGuhefUwfz4"
      },
      "source": [
        "Tensors have a ```requires_grad``` field. When ```requires_grad == True``` for a certain tensor, any subsequent operations that this tensor is an input to will be incorporated into a computation graph. Autograd will then be able to automatically compute partial derivatives *with respect to this tensor*. (Derivative of what function? More on that [later](#step5).) \n",
        "\n",
        "For any tensors which are the outputs of operations tracked in the computation graph, the ```grad_fn``` attribute will indicate the operation that created the tensor, represented as a `Function` object. (It is these `Function`s which encode the computation graph DAG [Directed Acyclic Graph].)\n",
        "\n",
        "**Important: If some starting tensors have requires_grad = True, then every tensor resulting from operations of those starting tensors will also have requires_grad = True.**\n",
        "\n"
      ]
    },
    {
      "cell_type": "code",
      "metadata": {
        "colab": {
          "base_uri": "https://localhost:8080/"
        },
        "id": "tNy9_NsXwXPp",
        "outputId": "194a11eb-478f-4870-d965-f1eef02a193e"
      },
      "source": [
        "# By default, user created Tensors have ``requires_grad=False``\n",
        "print('x and y requires_grad:', x.requires_grad, y.requires_grad)\n",
        "z = x + y\n",
        "# So you can't backprop through z\n",
        "print('z grad_fn:', z.grad_fn)"
      ],
      "execution_count": null,
      "outputs": [
        {
          "output_type": "stream",
          "text": [
            "x and y requires_grad: False False\n",
            "z grad_fn: None\n"
          ],
          "name": "stdout"
        }
      ]
    },
    {
      "cell_type": "code",
      "metadata": {
        "colab": {
          "base_uri": "https://localhost:8080/"
        },
        "id": "Xnb3o2ayxFyX",
        "outputId": "67040f7f-4d68-4eee-f94c-7ada75d1cfdb"
      },
      "source": [
        "# ``.requires_grad_( ... )`` changes an existing Tensor's ``requires_grad`` flag in-place.\n",
        "# The input flag defaults to ``True`` if not given.\n",
        "x = x.requires_grad_()\n",
        "y = y.requires_grad_()\n",
        "# z contains enough information to compute gradients, as we saw above\n",
        "z = x + y\n",
        "print('z grad_fn:', z.grad_fn)\n",
        "# If any input to an operation has ``requires_grad=True``, so will the output\n",
        "print('z requires_grad:', z.requires_grad)"
      ],
      "execution_count": null,
      "outputs": [
        {
          "output_type": "stream",
          "text": [
            "z grad_fn: <AddBackward0 object at 0x7fb234039990>\n",
            "z requires_grad: True\n"
          ],
          "name": "stdout"
        }
      ]
    },
    {
      "cell_type": "markdown",
      "metadata": {
        "id": "jjqGhfJ8yZJs"
      },
      "source": [
        "We can also detach a tensor from its computation graph:"
      ]
    },
    {
      "cell_type": "code",
      "metadata": {
        "colab": {
          "base_uri": "https://localhost:8080/"
        },
        "id": "C0bYoOKBwKm0",
        "outputId": "62b84fd8-5965-4ac7-f434-cb72ff890c67"
      },
      "source": [
        "# Now z has the computation history that relates itself to x and y\n",
        "# Can we just take its values, and **detach** it from its history?\n",
        "new_z = z.detach()\n",
        "\n",
        "# ... does new_z have information to backprop to x and y?\n",
        "# NO!\n",
        "print('new_z grad_fn:', new_z.grad_fn)\n",
        "# And how could it? ``z.detach()`` returns a tensor that shares the same storage as ``z``, but with the computation history forgotten.\n",
        "# It doesn't know anything about how it was computed.\n",
        "# In essence, we have broken the Tensor away from its past history"
      ],
      "execution_count": null,
      "outputs": [
        {
          "output_type": "stream",
          "text": [
            "new_z grad_fn: None\n"
          ],
          "name": "stdout"
        }
      ]
    },
    {
      "cell_type": "markdown",
      "metadata": {
        "id": "Xe2dUCuuTpo5"
      },
      "source": [
        "Now that we've been introduced to `requires_grad`, `grad_fn` and the computation graph....\n",
        "\n",
        "#### Question: Where should I actually set requires_grad to make everything work?\n",
        "#### Short Answer: In any tensors which represent model parameters or weights.\n",
        "\n",
        "Long Answer:\n",
        "\n",
        "- If you are initializing a parameter(s)/weight(s) by creating an individual tensor(s) manually, you have to set its `requires_grad = True` argument. \n",
        "- If you are initializing a parameter(s)/weight(s) by using built-in PyTorch methods from packages such as nn.Layer and nn.Parameter, the internally initialized tensors should already have `requires_grad` set to `True`.\n"
      ]
    },
    {
      "cell_type": "markdown",
      "metadata": {
        "id": "zIFDbUwUrvCK"
      },
      "source": [
        "## GPU Acceleration\n",
        "\n",
        "GPUs are built for parallel processing — they can handle thousands of operations at the same time — which makes them great for computationally-intensive neural nets."
      ]
    },
    {
      "cell_type": "code",
      "metadata": {
        "collapsed": true,
        "id": "7QdobpsapbDV"
      },
      "source": [
        "# To run tensor operations on GPU in Colab, go to Edit -> Notebook settings -> and select GPU as the hardware accelerator.\n",
        "# If GPU is enabled, the following assertion should pass.\n",
        "assert torch.cuda.is_available()"
      ],
      "execution_count": null,
      "outputs": []
    },
    {
      "cell_type": "code",
      "metadata": {
        "colab": {
          "base_uri": "https://localhost:8080/"
        },
        "id": "djVoc6o0pqIn",
        "outputId": "ed208dd6-48ae-4c30-bc26-3e9ff45872d8"
      },
      "source": [
        "# When creating a tensor, set its device to use CUDA (a GPU parallel computing platform), as shown below.\n",
        "# What this means is that we are telling PyTorch to physically initialize the relevant \n",
        "# variable in GPU memory.\n",
        "device = torch.device('cuda:0' if torch.cuda.is_available() else 'cpu')\n",
        "x = torch.rand(5, 5, device=device)\n",
        "y = torch.rand(5, 5, device=device)\n",
        "x * y"
      ],
      "execution_count": null,
      "outputs": [
        {
          "output_type": "execute_result",
          "data": {
            "text/plain": [
              "tensor([[0.2389, 0.5907, 0.3268, 0.3197, 0.1027],\n",
              "        [0.0764, 0.1218, 0.2003, 0.2460, 0.1116],\n",
              "        [0.1957, 0.5576, 0.4075, 0.4675, 0.5793],\n",
              "        [0.1489, 0.1124, 0.6500, 0.0438, 0.5834],\n",
              "        [0.1487, 0.3355, 0.0060, 0.0075, 0.0170]], device='cuda:0')"
            ]
          },
          "metadata": {
            "tags": []
          },
          "execution_count": 10
        }
      ]
    },
    {
      "cell_type": "markdown",
      "metadata": {
        "id": "bTYacvPiDex5"
      },
      "source": [
        "## Defining a Model\n",
        "\n",
        "* The ```nn``` package defines basic neural network layers (or Modules, in PyTorch-speak) as well as common loss functions. Modules take a tensor as input, apply some computation/function to it, and then output the new tensor. \n",
        "\n",
        "* The ```optim``` package defines common optimization algorithms such as Adam, RMSProp, and AdaGrad. These algorithms are all variations of stochastic (randomized) gradient descent, and they may differ in terms of how the gradient steps are taken and how the learning rate adapts over epochs. (More details here: https://pytorch.org/docs/stable/optim.html.)\n",
        "\n",
        "### Example: Cubic Model\n",
        "Let's say we want to predict y's modeled as ```ax + bx^2 + cx^3```, and our goal is to learn the weights ```a```, ```b```, and ```c```. (Original example from https://pytorch.org/tutorials/beginner/pytorch_with_examples.html#id21.) "
      ]
    },
    {
      "cell_type": "markdown",
      "metadata": {
        "id": "ms74sAOfKw1x"
      },
      "source": [
        "### Step 1: Generate Data"
      ]
    },
    {
      "cell_type": "code",
      "metadata": {
        "colab": {
          "base_uri": "https://localhost:8080/"
        },
        "id": "Nb9Qvif0KOmh",
        "outputId": "013b195e-a863-46ec-d58e-6b63295eed40"
      },
      "source": [
        "# Create Tensors to hold input and outputs.\n",
        "x = torch.linspace(-math.pi, math.pi, 2000)\n",
        "y = torch.sin(x)\n",
        "\n",
        "# Prepare the input tensor (x, x^2, x^3).\n",
        "p = torch.tensor([1, 2, 3])\n",
        "xx = x.unsqueeze(-1).pow(p) \n",
        "print(xx.shape)\n",
        "# Unsqueeze inserts a dimension of size one at the specified location; the tensor\n",
        "# is reshaped to (2000, 1). Since p is a tensor, pow is applied according to\n",
        "# broadcasting rules; xx has a final shape of (2000, 3). See documentation for \n",
        "# more on broadcasting; PyTorch supports NumPy broadcasting semantics."
      ],
      "execution_count": null,
      "outputs": [
        {
          "output_type": "stream",
          "text": [
            "torch.Size([2000, 3])\n"
          ],
          "name": "stdout"
        }
      ]
    },
    {
      "cell_type": "markdown",
      "metadata": {
        "id": "lZrswir2K0fp"
      },
      "source": [
        "<a name=\"step2\"></a>\n",
        "\n",
        "### Step 2: Define Model (using nn package)"
      ]
    },
    {
      "cell_type": "code",
      "metadata": {
        "collapsed": true,
        "id": "soqgPNLtK5mG"
      },
      "source": [
        "# Use the nn package to define our model as a sequence of layers.\n",
        "# nn.Sequential is a Module which contains other Modules, and applies them in sequence to produce its output.\n",
        "# nn.Linear computes the 3 input features (x, x^2, and x^3) into 1 output feature using a linear function,\n",
        "# holding internal tensors for its weight and bias.\n",
        "# nn.Flatten flattens the output of the linear layer to a 1D tensor to match the shape of y.\n",
        "# In this case, the first dim it flattens is at index 0, and the last dim it flattens is at index 1.\n",
        "\n",
        "model = torch.nn.Sequential(\n",
        "    torch.nn.Linear(3, 1),\n",
        "    torch.nn.Flatten(0, 1)\n",
        ")"
      ],
      "execution_count": null,
      "outputs": []
    },
    {
      "cell_type": "markdown",
      "metadata": {
        "id": "LE6UFoGcMrbE"
      },
      "source": [
        "### Step 3: Define Loss Function (using nn package)"
      ]
    },
    {
      "cell_type": "code",
      "metadata": {
        "collapsed": true,
        "id": "AwHrUXgPMqfY"
      },
      "source": [
        "# In this case, we will use Mean Squared Error. \n",
        "# You can either implement loss functions manually, or\n",
        "# you can use PyTorch's implementations of commonly-used loss functions.\n",
        "loss_fn = torch.nn.MSELoss(reduction='sum')"
      ],
      "execution_count": null,
      "outputs": []
    },
    {
      "cell_type": "markdown",
      "metadata": {
        "id": "KAEuLYyAM1UD"
      },
      "source": [
        "### Step 4: Define Optimizer (using optim package)\n",
        "\n",
        "Use the optim package to define an Optimizer that will update the weights of the model for us. Here we will use RMSprop; the optim package contains many other optimization algorithms. The first argument to the RMSprop constructor tells the optimizer which Tensors it should update.\n",
        "\n",
        "In general, what distinguishes different optimizers is the way that they use gradients to define an update rule or scheme for their model weights. It follows then that any optimizer will always need the weights to be updated, and their corresponding gradients. In PyTorch, both of these quantities are stored together under model parameter variables. In particular, if `var` is a model weight, `var.grad` will contain a gradient with respect to `var` after backpropagation is performed. More in the next code cell."
      ]
    },
    {
      "cell_type": "code",
      "metadata": {
        "collapsed": true,
        "id": "MdSCSU5nM4bG"
      },
      "source": [
        "learning_rate = 1e-3\n",
        "optimizer = torch.optim.RMSprop(model.parameters(), lr=learning_rate)"
      ],
      "execution_count": null,
      "outputs": []
    },
    {
      "cell_type": "markdown",
      "metadata": {
        "id": "bwyFsv2nM-5K"
      },
      "source": [
        "<a name=\"step5\"></a>\n",
        "\n",
        "### Step 5: Train the Model\n",
        "\n",
        "Every time you train a model, be sure to include these 3 short but important lines that do much of the heavy lifting for you!\n",
        "\n",
        "1.   `optimizer.zero_grad()`: Zeroes out gradients from previous iterations. Otherwise, over the epochs, gradients will accumulate (sum) in `parameter.grad` of each `parameter` which was passed to the optimizer as an argument.\n",
        "2.   `loss.backward()`: Does all the backpropagation in one fell swoop (takes the derivative of the loss). We call `.backward()` on the loss tensor, which has the effect of taking the partial derivative of the loss with respect to the model parameters. For a model parameter (weight) `w`, dloss/dw will be stored in `w.grad` after `loss.backward()`.\n",
        "3. `optimizer.step()`: Based on the previously specified optimizer algorithm and learning rate, updates the parameters in the direction of the gradient. This represents one iteration of the weight update rule.\n",
        "\n",
        "\n"
      ]
    },
    {
      "cell_type": "code",
      "metadata": {
        "colab": {
          "base_uri": "https://localhost:8080/"
        },
        "id": "IOOcYAkcNAgu",
        "outputId": "660c8efe-f46a-4114-b903-025018afd75d"
      },
      "source": [
        "num_epochs = 2000\n",
        "for epoch in range(num_epochs):\n",
        "\n",
        "    # Forward pass: compute predicted y by passing x to the model.\n",
        "    y_pred = model(xx)\n",
        "\n",
        "    # Compute and print loss.\n",
        "    loss = loss_fn(y_pred, y)\n",
        "    if epoch % 100 == 99:\n",
        "        print(epoch, loss.item())\n",
        "\n",
        "    # Before the backward pass, zero all the gradients for the variables it will update\n",
        "    # (these are the learnable weights of the model). This is because by defaults, \n",
        "    # gradients from previous iterations won't be overwritten. \n",
        "    optimizer.zero_grad()\n",
        "\n",
        "    # Backward pass: compute gradient of the loss with respect to model parameters\n",
        "    loss.backward()\n",
        "    # After taking the backward pass, you can see the computed gradient for each parameter\n",
        "    if epoch % 100 == 99:\n",
        "      # The model implicitly stores the parameters, as shown below:\n",
        "      for i, param in enumerate(model.parameters()):\n",
        "        # param.grad refers to d_loss/d_parameter\n",
        "        print('parameter', i, 'gradient', param.grad)\n",
        "\n",
        "    # Calling the step function on an Optimizer makes an update to its parameters\n",
        "    optimizer.step()\n",
        "\n",
        "linear_layer = model[0]\n",
        "print(f'Result: y = {linear_layer.bias.item()} + {linear_layer.weight[:, 0].item()} x + {linear_layer.weight[:, 1].item()} x^2 + {linear_layer.weight[:, 2].item()} x^3')"
      ],
      "execution_count": null,
      "outputs": [
        {
          "output_type": "stream",
          "text": [
            "99 21216.859375\n",
            "parameter 0 gradient tensor([[1.9800e+04, 1.0464e+02, 1.5073e+05]])\n",
            "parameter 1 gradient tensor([-199.4221])\n",
            "199 9220.1669921875\n",
            "parameter 0 gradient tensor([[1.1973e+04, 5.5177e+01, 9.6741e+04]])\n",
            "parameter 1 gradient tensor([-114.2843])\n",
            "299 3665.81689453125\n",
            "parameter 0 gradient tensor([[6.0572e+03, 2.1876e+01, 5.5883e+04]])\n",
            "parameter 1 gradient tensor([-49.4486])\n",
            "399 1527.0855712890625\n",
            "parameter 0 gradient tensor([[1.7839e+03, 5.5911e+00, 2.6271e+04]])\n",
            "parameter 1 gradient tensor([-13.0027])\n",
            "499 986.39306640625\n",
            "parameter 0 gradient tensor([[-6.5597e+02,  6.1726e-01,  9.1305e+03]])\n",
            "parameter 1 gradient tensor([-1.4426])\n",
            "599 859.09423828125\n",
            "parameter 0 gradient tensor([[-1.4664e+03,  1.8135e-02,  2.9492e+03]])\n",
            "parameter 1 gradient tensor([-0.0371])\n",
            "699 747.337890625\n",
            "parameter 0 gradient tensor([[-1.5222e+03,  3.4702e-04,  1.6870e+03]])\n",
            "parameter 1 gradient tensor([-3.6716e-05])\n",
            "799 620.6927490234375\n",
            "parameter 0 gradient tensor([[-1438.0822,   180.5932,  1171.3955]])\n",
            "parameter 1 gradient tensor([32.5640])\n",
            "899 493.21044921875\n",
            "parameter 0 gradient tensor([[-1322.0227,     2.5819,   749.0913]])\n",
            "parameter 1 gradient tensor([0.4753])\n",
            "999 377.0752868652344\n",
            "parameter 0 gradient tensor([[-1181.1462,    74.2836,   454.3659]])\n",
            "parameter 1 gradient tensor([13.8617])\n",
            "1099 277.13134765625\n",
            "parameter 0 gradient tensor([[-1025.0850,    67.0496,   269.6823]])\n",
            "parameter 1 gradient tensor([12.5777])\n",
            "1199 194.6741485595703\n",
            "parameter 0 gradient tensor([[-862.5865,   41.5257,  158.4168]])\n",
            "parameter 1 gradient tensor([7.8057])\n",
            "1299 129.39157104492188\n",
            "parameter 0 gradient tensor([[-699.8110,   35.0695,   92.1589]])\n",
            "parameter 1 gradient tensor([6.5969])\n",
            "1399 80.3011703491211\n",
            "parameter 0 gradient tensor([[-541.3895,   43.1170,   52.8036]])\n",
            "parameter 1 gradient tensor([8.1128])\n",
            "1499 46.01799392700195\n",
            "parameter 0 gradient tensor([[-391.7296,   49.6477,   29.4546]])\n",
            "parameter 1 gradient tensor([9.3424])\n",
            "1599 24.708724975585938\n",
            "parameter 0 gradient tensor([[-255.3106,   46.1461,   23.9215]])\n",
            "parameter 1 gradient tensor([8.6837])\n",
            "1699 13.77675724029541\n",
            "parameter 0 gradient tensor([[-146.3454,   44.1490,  -13.7208]])\n",
            "parameter 1 gradient tensor([8.3079])\n",
            "1799 9.739800453186035\n",
            "parameter 0 gradient tensor([[-69.0643,  45.4721, -51.0830]])\n",
            "parameter 1 gradient tensor([8.5570])\n",
            "1899 8.915592193603516\n",
            "parameter 0 gradient tensor([[ -35.4315,   46.1827, -129.3787]])\n",
            "parameter 1 gradient tensor([8.6908])\n",
            "1999 8.881555557250977\n",
            "parameter 0 gradient tensor([[ -35.7154,   45.6488, -232.2949]])\n",
            "parameter 1 gradient tensor([8.5902])\n",
            "Result: y = -0.0004996956558898091 + 0.8558390736579895 x + -0.0004997038631699979 x^2 + -0.0927581638097763 x^3\n"
          ],
          "name": "stdout"
        }
      ]
    },
    {
      "cell_type": "markdown",
      "metadata": {
        "id": "Z3uuSWYTSLvz"
      },
      "source": [
        "# **Problem 3, Part 1: PyTorch Concept Questions**\n",
        "\n",
        "*Write up your answers to these problems in your PDF submission.  Any work included in your Colab notebook will not be graded.*\n",
        "\n",
        "These questions are intended to be a straightforward check on some fundamental PyTorch concepts. You are encouraged to use the PyTorch documentation and any other online resources to answer these questions.  Please write no more than 3 sentences to answer each of the below questions.\n",
        "\n",
        "# Problem 3.1\n",
        "Where are gradients stored in PyTorch and how can they be accessed?\n",
        "\n",
        "A: It follows then that any optimizer will always need the weights to be updated, and their corresponding gradients. In PyTorch, both of these quantities are stored together under model parameter variables. In particular, if var is a model weight, var.grad will contain a gradient with respect to var after backpropagation is performed\n",
        "\n",
        "# Problem 3.2\n",
        "In the model defined in [Step 2](#step2) in the tutorial section, how many weights does the model have, and which layer do they come from?\n",
        "\n",
        "A: 3 weights, from the linear/fully-connected layer.\n",
        "\n",
        "# Problem 3.3\n",
        "Conceptually, what is a fully-connected layer in a neural network, and how is it represented in PyTorch?\n",
        "\n",
        "A: A layer where all nodes in previous layer are connected to nodes in current layer. To create a fully connected layer in PyTorch, we use the nn. Linear method. The first argument to this method is the number of nodes in the layer, and the second argument is the number of nodes in the following layer."
      ]
    },
    {
      "cell_type": "markdown",
      "metadata": {
        "id": "9jt4jB6bKNcH"
      },
      "source": [
        "# **Problem 3, Part 2: Training a Neural Network on CIFAR-10**"
      ]
    },
    {
      "cell_type": "markdown",
      "metadata": {
        "id": "lOftgxoIsiZl"
      },
      "source": [
        "In this part, you will train two neural networks to perform multi-class classifications on the [CIFAR-10 dataset](https://www.cs.toronto.edu/~kriz/cifar.html). This dataset consists of 32x32 images belonging to 10 classes. In particular:\n",
        "\n",
        "\n",
        "\n",
        "# Problem 3.4\n",
        "**Initialize:** Complete the Part2NeuralNetwork class with 3 fully connected (linear) layers using ReLU activation functions, and with the hidden layers having 1000 nodes each.\n",
        "\n",
        "Here, we ask you to define a model class which inherits from `nn.Module` rather than using `nn.Sequential` as we saw before in [Step 2](#step2). This is done by initializing weights in `__init__()` and manually implementing the forward pass in `forward()`. Feel free to reference documentation.\n",
        "\n",
        "Please copy and paste your neural network class into your PDF writeup.  We recommend using a LaTeX library such as [listings](https://ctan.org/pkg/listings?lang=en) to ensure your code renders correctly.\n",
        "\n",
        "*Include in your submission: Your neural network class code.*\n",
        "\n",
        "# Problem 3.5\n",
        "\n",
        "**Train:** Complete the training code for the model. Use [cross-entropy loss](https://pytorch.org/docs/stable/generated/torch.nn.CrossEntropyLoss.html) and an optimizer of your choice.\n",
        "\n",
        "Train your model for 10 epochs. Every epoch, log the train and test set loss.  Create a plot that displays both the model's train and the test set loss across epochs.\n",
        "\n",
        "*Include in your submission: 1 plot which has both the train and test loss vs. number of epochs.*\n",
        "\n",
        "# Problem 3.6\n",
        "\n",
        "**Evaluate:** To evaluate your model, compute the following metrics on the train and test set, including them in your write-up.  For each of the following metrics, use the model's \"hard assignment\" of labels, i.e. your model's predictions should assign each data point to only 1 class:\n",
        "\n",
        "* The model's classification accuracy\n",
        "* The model's [precision and recall](https://en.wikipedia.org/wiki/Precision_and_recall) for each of the 10 classes\n",
        "\n",
        "What kinds of errors do you believe that the trained model is making?  Use evidence (such as the above metrics, example misclassified images, or any other metrics of your choice) to support your claims.\n",
        "\n",
        "*Include in your submission: train/test accuracy, train/test precision/recall for 10 classes, and evidence to support your hypothesis about the model's errors.*\n",
        "\n",
        "# Problem 3.7\n",
        "\n",
        "**Explore:** Create a new neural network with at least 1 architectural modification.   Some things you can explore are adding or removing layers, changing the number of nodes at each layer, or experimenting with convolutional and pooling layers (see Appendix). The only requirement is that your model attain at least 50% test set accuracy after training for 10 epochs.  This part of the problem is intentionally open-ended, and we encourage you to explore!\n",
        "\n",
        "For your new neural network, include a plot of train and test set loss in your writeup.  Calculate your model's train/test accuracy and precision/recall for the 10 classes.\n",
        "\n",
        "In your writeup, copy and paste your modified neural network class and describe the architectural changes you made.  Write at least 1 sentence about why you hypothesize your new neural network performed better or performed worse than the network in Part 3.4.\n",
        "\n",
        "*Include in your submission: Your neural network class code, 1 plot of train/test loss, metrics from Part 3.6 for this new neural net, and explanation of performance.*\n"
      ]
    },
    {
      "cell_type": "code",
      "metadata": {
        "collapsed": true,
        "id": "ND3B7K0TKPyJ",
        "colab": {
          "base_uri": "https://localhost:8080/",
          "height": 100,
          "referenced_widgets": [
            "439b744be1c2457389a11f9361a59c40",
            "334e14f9343a4072af2b3a1f66a7d8ea",
            "b077a710046346af9637119175b95198",
            "3b0650614104473b8b72c5c038e6232d",
            "cbeea1e1370841888a210b47852e29ba",
            "f36a15e3f7ce4790bf1c49860911717b",
            "2e27c107db874b69819e565ff8e31736",
            "f2d3ad6152bf43d6a8f62a6999ffc9f1"
          ]
        },
        "outputId": "e1230da9-fb96-4ef8-b6f5-b79410a29688"
      },
      "source": [
        "## Download CIFAR-10 dataset \n",
        "\n",
        "import torch\n",
        "import torchvision\n",
        "import torchvision.transforms as transforms\n",
        "\n",
        "transform = transforms.Compose(\n",
        "    [transforms.ToTensor(),\n",
        "     transforms.Normalize((0.5, 0.5, 0.5), (0.5, 0.5, 0.5))])\n",
        "\n",
        "trainset = torchvision.datasets.CIFAR10(root='./part_2_data', train=True,\n",
        "                                        download=True, transform=transform)\n",
        "trainloader = torch.utils.data.DataLoader(trainset, batch_size=32,\n",
        "                                          shuffle=True, num_workers=2)\n",
        "\n",
        "testset = torchvision.datasets.CIFAR10(root='./part_2_data', train=False,\n",
        "                                       download=True, transform=transform)\n",
        "testloader = torch.utils.data.DataLoader(testset, batch_size=32,\n",
        "                                         shuffle=False, num_workers=2)\n",
        "\n",
        "classes = ('plane', 'car', 'bird', 'cat',\n",
        "           'deer', 'dog', 'frog', 'horse', 'ship', 'truck')"
      ],
      "execution_count": null,
      "outputs": [
        {
          "output_type": "stream",
          "text": [
            "Downloading https://www.cs.toronto.edu/~kriz/cifar-10-python.tar.gz to ./part_2_data/cifar-10-python.tar.gz\n"
          ],
          "name": "stdout"
        },
        {
          "output_type": "display_data",
          "data": {
            "application/vnd.jupyter.widget-view+json": {
              "model_id": "439b744be1c2457389a11f9361a59c40",
              "version_minor": 0,
              "version_major": 2
            },
            "text/plain": [
              "HBox(children=(FloatProgress(value=1.0, bar_style='info', max=1.0), HTML(value='')))"
            ]
          },
          "metadata": {
            "tags": []
          }
        },
        {
          "output_type": "stream",
          "text": [
            "Extracting ./part_2_data/cifar-10-python.tar.gz to ./part_2_data\n",
            "Files already downloaded and verified\n"
          ],
          "name": "stdout"
        }
      ]
    },
    {
      "cell_type": "code",
      "metadata": {
        "collapsed": true,
        "id": "c-t27AQYtPHc",
        "colab": {
          "base_uri": "https://localhost:8080/"
        },
        "outputId": "3e5c9427-f8b6-4413-e0ac-fd2e21264a8c"
      },
      "source": [
        "# TODO - Complete Part2NeuralNetwork. Include class into your PDF submission!\n",
        "\n",
        "import torch.nn as nn\n",
        "import torch.nn.functional as F\n",
        "import torch.optim as optim\n",
        "\n",
        "device = torch.device('cuda:0' if torch.cuda.is_available() else 'cpu')\n",
        "\n",
        "class Part2NeuralNetwork(nn.Module):\n",
        "    def __init__(self):\n",
        "        super(Part2NeuralNetwork, self).__init__()\n",
        "        self.fc1 = torch.nn.Linear(3072, 1000) \n",
        "        self.fc2 = torch.nn.Linear(1000, 1000) \n",
        "        self.fc3 = torch.nn.Linear(1000, 10) \n",
        "        ## TODO: Define your neural network layers here!\n",
        "        ## Importantly, any modules which initialize weights should be initialized\n",
        "        ## as member variables here. \n",
        "        ## Note: Keep track of the shape of your input tensors in the training\n",
        "        ## and test sets, because it affects how you define your layers!\n",
        "        ## You might find this resource helpful:\n",
        "        ## https://towardsdatascience.com/pytorch-layer-dimensions-what-sizes-should-they-be-and-why-4265a41e01fd\n",
        "\n",
        "    def forward(self, x):\n",
        "        ## TODO: This is where you should apply the layers defined in the __init__\n",
        "        ## method and the ReLU activation functions to the input x.\n",
        "        self.batch_size = x.shape[0]\n",
        "        x = x.view(self.batch_size, -1)\n",
        "        # self.flatten_dim = x.shape[1]*x.shape[2]*x.shape[3]\n",
        "        # print(x.shape)\n",
        "        x = F.relu(self.fc1(x))\n",
        "        x = F.relu(self.fc2(x))\n",
        "        x = F.relu(self.fc3(x))\n",
        "        return x\n",
        "\n",
        "# Display model architecture\n",
        "model = Part2NeuralNetwork()\n",
        "model.to(device)"
      ],
      "execution_count": null,
      "outputs": [
        {
          "output_type": "stream",
          "text": [
            "\n"
          ],
          "name": "stdout"
        },
        {
          "output_type": "execute_result",
          "data": {
            "text/plain": [
              "Part2NeuralNetwork(\n",
              "  (fc1): Linear(in_features=3072, out_features=1000, bias=True)\n",
              "  (fc2): Linear(in_features=1000, out_features=1000, bias=True)\n",
              "  (fc3): Linear(in_features=1000, out_features=10, bias=True)\n",
              ")"
            ]
          },
          "metadata": {
            "tags": []
          },
          "execution_count": 17
        }
      ]
    },
    {
      "cell_type": "code",
      "metadata": {
        "collapsed": true,
        "id": "zfaC1lDuek_i",
        "colab": {
          "base_uri": "https://localhost:8080/"
        },
        "outputId": "208e4a7e-4b03-4c8f-9da9-c8c21994cdfd"
      },
      "source": [
        "# TODO - Complete NN training\n",
        "\n",
        "# Reinitialize to ensure we are training a new model\n",
        "model = Part2NeuralNetwork()\n",
        "model.to(device)\n",
        "\n",
        "loss_function = nn.CrossEntropyLoss()\n",
        "optimizer = optim.SGD(model.parameters(), lr=0.001, momentum=0.9)\n",
        "\n",
        "train_losses = []\n",
        "test_losses = []\n",
        "\n",
        "for epoch in range(10):\n",
        "    running_loss = 0.0\n",
        "    model.train(True)\n",
        "    for i, data in enumerate(trainloader, 0):\n",
        "        # Get inputs; data is a list of [inputs, labels]\n",
        "        xs, ys = data\n",
        "        xs = xs.to(device)\n",
        "        ys = ys.to(device)\n",
        "\n",
        "        ## TODO: optimize model parameters\n",
        "\n",
        "        # forward\n",
        "        y_pred = model(xs)\n",
        "        loss = loss_function(y_pred, ys)\n",
        "\n",
        "        optimizer.zero_grad()\n",
        "        \n",
        "        #backward\n",
        "        loss.backward()\n",
        "        optimizer.step()\n",
        "\n",
        "        running_loss += loss.item()\n",
        "    train_losses.append(running_loss / 50000)\n",
        "    print('[Epoch %d] average train loss: %.3f' % (epoch + 1, running_loss / 50000))\n",
        "    \n",
        "    model.train(False)\n",
        "    running_test_loss = 0.0\n",
        "    ## TODO: calculate test loss in similar fashion\n",
        "\n",
        "    for i, data in enumerate(testloader, 0):\n",
        "        # Get inputs; data is a list of [inputs, labels]\n",
        "        xs, ys = data\n",
        "        xs = xs.to(device)\n",
        "        ys = ys.to(device)\n",
        "        running_test_loss += loss.item()\n",
        "\n",
        "    test_losses.append(running_test_loss / 10000)\n",
        "    print('[Epoch %d] average test loss: %.3f' % (epoch + 1, running_test_loss / 10000))\n",
        "\n",
        "print('Finished Training')"
      ],
      "execution_count": null,
      "outputs": [
        {
          "output_type": "stream",
          "text": [
            "[Epoch 1] average train loss: 0.061\n",
            "[Epoch 1] average test loss: 0.053\n",
            "[Epoch 2] average train loss: 0.051\n",
            "[Epoch 2] average test loss: 0.056\n",
            "[Epoch 3] average train loss: 0.047\n",
            "[Epoch 3] average test loss: 0.042\n",
            "[Epoch 4] average train loss: 0.044\n",
            "[Epoch 4] average test loss: 0.026\n",
            "[Epoch 5] average train loss: 0.042\n",
            "[Epoch 5] average test loss: 0.039\n",
            "[Epoch 6] average train loss: 0.040\n",
            "[Epoch 6] average test loss: 0.041\n",
            "[Epoch 7] average train loss: 0.038\n",
            "[Epoch 7] average test loss: 0.036\n",
            "[Epoch 8] average train loss: 0.036\n",
            "[Epoch 8] average test loss: 0.070\n",
            "[Epoch 9] average train loss: 0.034\n",
            "[Epoch 9] average test loss: 0.030\n",
            "[Epoch 10] average train loss: 0.033\n",
            "[Epoch 10] average test loss: 0.030\n",
            "Finished Training\n"
          ],
          "name": "stdout"
        }
      ]
    },
    {
      "cell_type": "code",
      "metadata": {
        "id": "-GONXrHUG60M",
        "colab": {
          "base_uri": "https://localhost:8080/",
          "height": 295
        },
        "outputId": "7a90599a-7881-44b3-85ab-0dc1770e520d"
      },
      "source": [
        "import matplotlib.pyplot as plt\n",
        " \n",
        "x  = [1, 2, 3, 4, 5, 6, 7, 8, 9, 10]\n",
        "plt.plot(x, train_losses, label=\"Training Loss\")\n",
        "plt.plot(x, test_losses, label=\"Test Loss\")\n",
        "plt.plot()\n",
        "\n",
        "plt.xlabel(\"Epochs\")\n",
        "plt.ylabel(\"Loss\")\n",
        "plt.title(\"Training/Test Loss Over Time\")\n",
        "plt.legend()\n",
        "plt.show()"
      ],
      "execution_count": null,
      "outputs": [
        {
          "output_type": "display_data",
          "data": {
            "image/png": "[encoded data removed]",
            "text/plain": [
              "<Figure size 432x288 with 1 Axes>"
            ]
          },
          "metadata": {
            "tags": [],
            "needs_background": "light"
          }
        }
      ]
    },
    {
      "cell_type": "code",
      "metadata": {
        "collapsed": true,
        "id": "6eM9cwr8Jrfc",
        "colab": {
          "base_uri": "https://localhost:8080/"
        },
        "outputId": "5e052d66-8d60-4e0c-9c72-3be00c1ecbcc"
      },
      "source": [
        "# Use this function to compute your model accuracy!\n",
        "# Note that the dataloader argument can take trainloader or testloader\n",
        "def compute_accuracy(model, dataloader):\n",
        "    correct = 0\n",
        "    total = 0\n",
        "    model.train(False)\n",
        "    with torch.no_grad():\n",
        "        for data in dataloader:\n",
        "            xs, ys = data\n",
        "            xs = xs.to(device)\n",
        "            ys = ys.to(device)\n",
        "            y_preds = model(xs)\n",
        "            _, predicted = torch.max(y_preds.data, 1)\n",
        "            total += ys.size(0)\n",
        "            # print(ys)\n",
        "            # print(ys.cpu().detach().numpy())\n",
        "            correct += (predicted == ys).sum().item()\n",
        "    print('Model accuracy: %d %%' % (100 * correct / total))\n",
        "  \n",
        "compute_accuracy(model, trainloader)\n",
        "compute_accuracy(model, testloader)"
      ],
      "execution_count": null,
      "outputs": [
        {
          "output_type": "stream",
          "text": [
            "Model accuracy: 67 %\n",
            "Model accuracy: 54 %\n"
          ],
          "name": "stdout"
        }
      ]
    },
    {
      "cell_type": "code",
      "metadata": {
        "colab": {
          "base_uri": "https://localhost:8080/",
          "height": 1000
        },
        "id": "hz_rKzvdhipQ",
        "outputId": "29f19591-9be4-4ba4-aa8e-11d34c497839"
      },
      "source": [
        "from sklearn.metrics import precision_recall_fscore_support, accuracy_score, confusion_matrix, plot_confusion_matrix, ConfusionMatrixDisplay\n",
        "import seaborn as sn\n",
        "import pandas as pd\n",
        "import matplotlib.pyplot as plt\n",
        "\n",
        "def compute_precision_recall(model, dataloader):\n",
        "    correct = 0\n",
        "    total = 0\n",
        "    model.train(False)\n",
        "    preds = []\n",
        "    y = np.array([])\n",
        "    x = np.array([])\n",
        "    with torch.no_grad():\n",
        "        for data in dataloader:\n",
        "            xs, ys = data\n",
        "            xs = xs.to(device)\n",
        "            ys = ys.to(device)\n",
        "            y = np.append(y, ys.cpu().detach().numpy())\n",
        "            x = np.append(x, xs.cpu().detach().numpy())\n",
        "            y_preds = model(xs)\n",
        "            _, predicted = torch.max(y_preds.data, 1)\n",
        "            preds = np.append(preds, predicted.cpu().detach().numpy())\n",
        "            total += ys.size(0)\n",
        "            correct += (predicted == ys).sum().item()\n",
        "    # print(preds)\n",
        "    # print(y)\n",
        "    prec_recall = precision_recall_fscore_support(y, preds, average=None, labels=list(range(10)))\n",
        "    acc = accuracy_score(y, preds)\n",
        "    # print(prec_recall)\n",
        "    # print('Model accuracy:', acc)\n",
        "    print('Model precision for class 0 through 9, respectively:', prec_recall[0])\n",
        "    print('Model recall for class 0 through 9, respectively:', prec_recall[1])\n",
        "    arr = confusion_matrix(y, preds)\n",
        "    print(\"Confusion_matrix:\", arr / sum(arr))\n",
        "    disp = ConfusionMatrixDisplay(confusion_matrix=arr, display_labels=list(range(10)))\n",
        "    disp.plot() \n",
        "    # df_cm = pd.DataFrame(arr, index = list(range(10)),\n",
        "    #               columns = list(range(10)))\n",
        "    # plt.figure(figsize = (10,7))\n",
        "    # sn.heatmap(df_cm, annot=True)\n",
        "    # plot_confusion_matrix(model, x, y, normalize=all)  \n",
        "    # plt.show()\n",
        "\n",
        "\n",
        "  \n",
        "compute_precision_recall(model, trainloader)\n",
        "compute_precision_recall(model, testloader)"
      ],
      "execution_count": null,
      "outputs": [
        {
          "output_type": "stream",
          "text": [
            "Model precision for class 0 through 9, respectively: [0.70503876 0.81568228 0.53122172 0.60341151 0.60975104 0.54714384\n",
            " 0.69519833 0.6999824  0.78943073 0.75186056]\n",
            "Model recall for class 0 through 9, respectively: [0.7276 0.801  0.587  0.3396 0.5878 0.636  0.7326 0.7956 0.7738 0.7678]\n",
            "Confusion_matrix: [[0.70503876 0.02464358 0.0441629  0.02203269 0.03298755 0.01118376\n",
            "  0.01233631 0.02005983 0.06794532 0.03897376]\n",
            " [0.0248062  0.81568228 0.01031674 0.01385928 0.00788382 0.00688231\n",
            "  0.01138736 0.00967799 0.03631912 0.07833921]\n",
            " [0.05949612 0.00631365 0.53122172 0.05721393 0.10995851 0.0583276\n",
            "  0.06187132 0.04275911 0.01183432 0.01370936]\n",
            " [0.01918605 0.00916497 0.08886878 0.60341151 0.04979253 0.23554714\n",
            "  0.09413551 0.0538448  0.02305652 0.02800627]\n",
            " [0.04534884 0.00325866 0.1241629  0.0376688  0.60975104 0.03716449\n",
            "  0.04744733 0.07179307 0.0173434  0.01175088]\n",
            " [0.00813953 0.00509165 0.0761991  0.14072495 0.04460581 0.54714384\n",
            "  0.04706775 0.0610593  0.01244644 0.01273012]\n",
            " [0.00562016 0.00610998 0.06497738 0.05721393 0.07261411 0.04043359\n",
            "  0.69519833 0.01548478 0.00897776 0.00802977]\n",
            " [0.01957364 0.00325866 0.03438914 0.03304904 0.04543568 0.03871301\n",
            "  0.00854052 0.6999824  0.00550908 0.02075989]\n",
            " [0.08624031 0.03828921 0.01303167 0.01563611 0.01659751 0.00825877\n",
            "  0.00835073 0.00475101 0.78943073 0.03584019]\n",
            " [0.02655039 0.08818737 0.01266968 0.01918977 0.01037344 0.01634549\n",
            "  0.01366483 0.02058772 0.02713732 0.75186056]]\n",
            "Model precision for class 0 through 9, respectively: [0.62154433 0.68831169 0.43470149 0.38979964 0.46865365 0.43500425\n",
            " 0.58760891 0.55611814 0.65875371 0.58519961]\n",
            "Model recall for class 0 through 9, respectively: [0.652 0.636 0.466 0.214 0.456 0.512 0.607 0.659 0.666 0.601]\n",
            "Confusion_matrix: [[0.62154433 0.02272727 0.05597015 0.03278689 0.03391572 0.01359388\n",
            "  0.02129719 0.02194093 0.09495549 0.05452775]\n",
            " [0.03241182 0.68831169 0.01772388 0.03278689 0.01027749 0.01189465\n",
            "  0.02032914 0.02869198 0.07418398 0.13534567]\n",
            " [0.06387035 0.00974026 0.43470149 0.10018215 0.13257965 0.0815633\n",
            "  0.07454017 0.0556962  0.0148368  0.0194742 ]\n",
            " [0.02859867 0.01731602 0.09701493 0.38979964 0.06166495 0.23959218\n",
            "  0.12100678 0.0835443  0.02670623 0.04186952]\n",
            " [0.05243089 0.00541126 0.14272388 0.05282332 0.46865365 0.04757859\n",
            "  0.08906099 0.09451477 0.01879327 0.02239533]\n",
            " [0.01525262 0.00757576 0.09328358 0.18579235 0.07708119 0.43500425\n",
            "  0.04743466 0.07594937 0.02472799 0.02336904]\n",
            " [0.00571973 0.01190476 0.08302239 0.09289617 0.11408016 0.04842821\n",
            "  0.58760891 0.02953586 0.01384768 0.01850049]\n",
            " [0.02859867 0.00649351 0.04104478 0.05464481 0.07399794 0.07816483\n",
            "  0.01355276 0.55611814 0.01384768 0.03797468]\n",
            " [0.11344137 0.06926407 0.01865672 0.02367942 0.01438849 0.01784197\n",
            "  0.00580833 0.01181435 0.65875371 0.06134372]\n",
            " [0.03813155 0.16125541 0.01585821 0.03460838 0.01336074 0.02633815\n",
            "  0.01936108 0.04219409 0.05934718 0.58519961]]\n"
          ],
          "name": "stdout"
        },
        {
          "output_type": "display_data",
          "data": {
            "image/png": "[encoded data removed]",
            "text/plain": [
              "<Figure size 432x288 with 2 Axes>"
            ]
          },
          "metadata": {
            "tags": [],
            "needs_background": "light"
          }
        },
        {
          "output_type": "display_data",
          "data": {
            "image/png": "[encoded data removed]",
            "text/plain": [
              "<Figure size 432x288 with 2 Axes>"
            ]
          },
          "metadata": {
            "tags": [],
            "needs_background": "light"
          }
        }
      ]
    },
    {
      "cell_type": "code",
      "metadata": {
        "colab": {
          "base_uri": "https://localhost:8080/"
        },
        "id": "ULZ6YPW5-3wJ",
        "outputId": "fa41ca3a-88f4-43b2-f891-8783931c1564"
      },
      "source": [
        "import torch.nn as nn\n",
        "import torch.nn.functional as F\n",
        "import torch.optim as optim\n",
        "\n",
        "device = torch.device('cuda:0' if torch.cuda.is_available() else 'cpu')\n",
        "\n",
        "class Part2NeuralNetwork(nn.Module):\n",
        "    def __init__(self):\n",
        "        super(Part2NeuralNetwork, self).__init__()\n",
        "        self.fc1 = torch.nn.Linear(3072, 2000) \n",
        "        self.fc2 = torch.nn.Linear(2000, 2000) \n",
        "        self.fc3 = torch.nn.Linear(2000, 2000) \n",
        "        self.fc4 = torch.nn.Linear(2000, 2000) \n",
        "        self.fc5 = torch.nn.Linear(2000, 2000) \n",
        "        self.fc6 = torch.nn.Linear(2000, 10) \n",
        "        ## TODO: Define your neural network layers here!\n",
        "        ## Importantly, any modules which initialize weights should be initialized\n",
        "        ## as member variables here. \n",
        "        ## Note: Keep track of the shape of your input tensors in the training\n",
        "        ## and test sets, because it affects how you define your layers!\n",
        "        ## You might find this resource helpful:\n",
        "        ## https://towardsdatascience.com/pytorch-layer-dimensions-what-sizes-should-they-be-and-why-4265a41e01fd\n",
        "\n",
        "    def forward(self, x):\n",
        "        ## TODO: This is where you should apply the layers defined in the __init__\n",
        "        ## method and the ReLU activation functions to the input x.\n",
        "        self.batch_size = x.shape[0]\n",
        "        x = x.view(self.batch_size, -1)\n",
        "        # self.flatten_dim = x.shape[1]*x.shape[2]*x.shape[3]\n",
        "        # print(x.shape)\n",
        "        x = F.relu(self.fc1(x))\n",
        "        x = F.relu(self.fc2(x))\n",
        "        x = F.relu(self.fc3(x))\n",
        "        x = F.relu(self.fc4(x))\n",
        "        x = F.relu(self.fc5(x))\n",
        "        x = F.relu(self.fc6(x))\n",
        "        return x\n",
        "\n",
        "# Display model architecture\n",
        "model = Part2NeuralNetwork()\n",
        "model.to(device)"
      ],
      "execution_count": null,
      "outputs": [
        {
          "output_type": "execute_result",
          "data": {
            "text/plain": [
              "Part2NeuralNetwork(\n",
              "  (fc1): Linear(in_features=3072, out_features=2000, bias=True)\n",
              "  (fc2): Linear(in_features=2000, out_features=2000, bias=True)\n",
              "  (fc3): Linear(in_features=2000, out_features=2000, bias=True)\n",
              "  (fc4): Linear(in_features=2000, out_features=2000, bias=True)\n",
              "  (fc5): Linear(in_features=2000, out_features=2000, bias=True)\n",
              "  (fc6): Linear(in_features=2000, out_features=10, bias=True)\n",
              ")"
            ]
          },
          "metadata": {
            "tags": []
          },
          "execution_count": 22
        }
      ]
    },
    {
      "cell_type": "code",
      "metadata": {
        "colab": {
          "base_uri": "https://localhost:8080/"
        },
        "id": "nDKVB5YI-70n",
        "outputId": "df4b8eea-2bd8-4704-c878-74875b85728b"
      },
      "source": [
        "# TODO - Complete NN training\n",
        "\n",
        "# Reinitialize to ensure we are training a new model\n",
        "model = Part2NeuralNetwork()\n",
        "model.to(device)\n",
        "\n",
        "loss_function = nn.CrossEntropyLoss()\n",
        "optimizer = optim.SGD(model.parameters(), lr=0.001, momentum=0.9)\n",
        "\n",
        "train_losses = []\n",
        "test_losses = []\n",
        "\n",
        "for epoch in range(10):\n",
        "    running_loss = 0.0\n",
        "    model.train(True)\n",
        "    for i, data in enumerate(trainloader, 0):\n",
        "        # Get inputs; data is a list of [inputs, labels]\n",
        "        xs, ys = data\n",
        "        xs = xs.to(device)\n",
        "        ys = ys.to(device)\n",
        "\n",
        "        ## TODO: optimize model parameters\n",
        "\n",
        "        # forward\n",
        "        y_pred = model(xs)\n",
        "        loss = loss_function(y_pred, ys)\n",
        "\n",
        "        optimizer.zero_grad()\n",
        "        \n",
        "        #backward\n",
        "        loss.backward()\n",
        "        optimizer.step()\n",
        "\n",
        "        running_loss += loss.item()\n",
        "    train_losses.append(running_loss / 50000)\n",
        "    print('[Epoch %d] average train loss: %.3f' % (epoch + 1, running_loss / 50000))\n",
        "    \n",
        "    model.train(False)\n",
        "    running_test_loss = 0.0\n",
        "    ## TODO: calculate test loss in similar fashion\n",
        "\n",
        "    for i, data in enumerate(testloader, 0):\n",
        "        # Get inputs; data is a list of [inputs, labels]\n",
        "        xs, ys = data\n",
        "        xs = xs.to(device)\n",
        "        ys = ys.to(device)\n",
        "        running_test_loss += loss.item()\n",
        "\n",
        "    test_losses.append(running_test_loss / 10000)\n",
        "    print('[Epoch %d] average test loss: %.3f' % (epoch + 1, running_test_loss / 10000))\n",
        "\n",
        "print('Finished Training')"
      ],
      "execution_count": null,
      "outputs": [
        {
          "output_type": "stream",
          "text": [
            "[Epoch 1] average train loss: 0.072\n",
            "[Epoch 1] average test loss: 0.072\n",
            "[Epoch 2] average train loss: 0.070\n",
            "[Epoch 2] average test loss: 0.066\n",
            "[Epoch 3] average train loss: 0.061\n",
            "[Epoch 3] average test loss: 0.058\n",
            "[Epoch 4] average train loss: 0.053\n",
            "[Epoch 4] average test loss: 0.055\n",
            "[Epoch 5] average train loss: 0.048\n",
            "[Epoch 5] average test loss: 0.035\n",
            "[Epoch 6] average train loss: 0.045\n",
            "[Epoch 6] average test loss: 0.044\n",
            "[Epoch 7] average train loss: 0.042\n",
            "[Epoch 7] average test loss: 0.040\n",
            "[Epoch 8] average train loss: 0.039\n",
            "[Epoch 8] average test loss: 0.033\n",
            "[Epoch 9] average train loss: 0.037\n",
            "[Epoch 9] average test loss: 0.043\n",
            "[Epoch 10] average train loss: 0.035\n",
            "[Epoch 10] average test loss: 0.033\n",
            "Finished Training\n"
          ],
          "name": "stdout"
        }
      ]
    },
    {
      "cell_type": "code",
      "metadata": {
        "colab": {
          "base_uri": "https://localhost:8080/",
          "height": 295
        },
        "id": "SzejqlRL--_V",
        "outputId": "6fb08424-5ae8-47c3-9c99-709a527a99b0"
      },
      "source": [
        "import matplotlib.pyplot as plt\n",
        " \n",
        "x  = [1, 2, 3, 4, 5, 6, 7, 8, 9, 10]\n",
        "plt.plot(x, train_losses, label=\"Training Loss\")\n",
        "plt.plot(x, test_losses, label=\"Test Loss\")\n",
        "plt.plot()\n",
        "\n",
        "plt.xlabel(\"Epochs\")\n",
        "plt.ylabel(\"Loss\")\n",
        "plt.title(\"Training/Test Loss Over Time\")\n",
        "plt.legend()\n",
        "plt.show()"
      ],
      "execution_count": null,
      "outputs": [
        {
          "output_type": "display_data",
          "data": {
            "image/png": "[encoded data removed]",
            "text/plain": [
              "<Figure size 432x288 with 1 Axes>"
            ]
          },
          "metadata": {
            "tags": [],
            "needs_background": "light"
          }
        }
      ]
    },
    {
      "cell_type": "code",
      "metadata": {
        "colab": {
          "base_uri": "https://localhost:8080/",
          "height": 1000
        },
        "id": "ItKaXkDA_yam",
        "outputId": "9680f88d-f5f1-4506-e149-2ba862750d58"
      },
      "source": [
        "compute_accuracy(model, trainloader)\n",
        "compute_accuracy(model, testloader)\n",
        "compute_precision_recall(model, trainloader)\n",
        "compute_precision_recall(model, testloader)"
      ],
      "execution_count": null,
      "outputs": [
        {
          "output_type": "stream",
          "text": [
            "Model accuracy: 64 %\n",
            "Model accuracy: 53 %\n",
            "Model precision for class 0 through 9, respectively: [0.69671653 0.76795367 0.59251031 0.42045099 0.54684299 0.51610954\n",
            " 0.61956354 0.82261072 0.75475285 0.8591029 ]\n",
            "Model recall for class 0 through 9, respectively: [0.7172 0.7956 0.3734 0.537  0.5872 0.5126 0.8006 0.7058 0.794  0.6512]\n",
            "Confusion_matrix: [[6.96716534e-01 1.89189189e-02 8.02919708e-02 2.89696210e-02\n",
            "  3.87409201e-02 1.00684656e-02 8.35783934e-03 1.35198135e-02\n",
            "  8.51711027e-02 1.58311346e-02]\n",
            " [3.90518749e-02 7.67953668e-01 3.17359568e-04 1.65988099e-02\n",
            "  4.65636059e-03 3.02053967e-03 9.75081257e-03 3.49650350e-03\n",
            "  6.27376426e-02 7.01846966e-02]\n",
            " [5.65377890e-02 3.28185328e-03 5.92510314e-01 8.83181961e-02\n",
            "  1.85695660e-01 8.73942811e-02 9.61151525e-02 3.24009324e-02\n",
            "  9.88593156e-03 4.74934037e-03]\n",
            " [1.32115796e-02 6.56370656e-03 5.71247223e-02 4.20450987e-01\n",
            "  3.66921214e-02 2.11639146e-01 9.56508280e-02 1.84149184e-02\n",
            "  1.15969582e-02 7.12401055e-03]\n",
            " [4.27433456e-02 4.05405405e-03 1.26626468e-01 5.41810210e-02\n",
            "  5.46842988e-01 4.06766009e-02 8.91502863e-02 4.89510490e-02\n",
            "  1.44486692e-02 3.69393140e-03]\n",
            " [2.91431902e-03 2.50965251e-03 6.18851158e-02 2.25023489e-01\n",
            "  3.96721922e-02 5.16109545e-01 5.64928030e-02 3.56643357e-02\n",
            "  4.75285171e-03 5.54089710e-03]\n",
            " [2.72003109e-03 4.63320463e-03 2.98317994e-02 7.40682744e-02\n",
            "  4.56323338e-02 1.91300846e-02 6.19563535e-01 3.49650350e-03\n",
            "  5.13307985e-03 2.63852243e-03]\n",
            " [1.49601710e-02 3.08880309e-03 3.64963504e-02 3.82085813e-02\n",
            "  7.72955858e-02 9.24285139e-02 9.90558737e-03 8.22610723e-01\n",
            "  4.56273764e-03 1.50395778e-02]\n",
            " [9.22867690e-02 2.99227799e-02 1.11075849e-02 2.44284372e-02\n",
            "  1.67628981e-02 4.63149416e-03 4.95279369e-03 6.99300699e-04\n",
            "  7.54752852e-01 1.60949868e-02]\n",
            " [3.88575869e-02 1.59073359e-01 3.80831482e-03 2.97525838e-02\n",
            "  8.00894021e-03 1.49013290e-02 1.00603622e-02 2.07459207e-02\n",
            "  4.69581749e-02 8.59102902e-01]]\n",
            "Model precision for class 0 through 9, respectively: [0.60309777 0.67255717 0.49917628 0.33111111 0.45352113 0.42745098\n",
            " 0.52187029 0.67105263 0.63619744 0.68882603]\n",
            "Model recall for class 0 through 9, respectively: [0.623 0.647 0.303 0.447 0.483 0.436 0.692 0.561 0.696 0.487]\n",
            "Confusion_matrix: [[0.60309777 0.02286902 0.09884679 0.02814815 0.04788732 0.01666667\n",
            "  0.0173454  0.01674641 0.11700183 0.03394625]\n",
            " [0.05227493 0.67255717 0.00494234 0.04148148 0.00751174 0.0127451\n",
            "  0.01508296 0.01435407 0.08043876 0.14002829]\n",
            " [0.06389158 0.01039501 0.49917628 0.09407407 0.17276995 0.09705882\n",
            "  0.10708899 0.05143541 0.01919561 0.00707214]\n",
            " [0.02129719 0.01143451 0.0708402  0.33111111 0.04600939 0.19705882\n",
            "  0.11538462 0.0430622  0.01736746 0.02687412]\n",
            " [0.03678606 0.00935551 0.14827018 0.06740741 0.45352113 0.05392157\n",
            "  0.11312217 0.06818182 0.02010969 0.00707214]\n",
            " [0.00871249 0.00727651 0.07742998 0.20148148 0.06384977 0.42745098\n",
            "  0.06410256 0.05861244 0.01553931 0.01414427]\n",
            " [0.00580833 0.01039501 0.04118616 0.08592593 0.07511737 0.03627451\n",
            "  0.52187029 0.01196172 0.011883   0.0155587 ]\n",
            " [0.03000968 0.01039501 0.04118616 0.0637037  0.09859155 0.12254902\n",
            "  0.01809955 0.67105263 0.01005484 0.0311174 ]\n",
            " [0.11519845 0.05093555 0.01153213 0.03777778 0.02253521 0.01568627\n",
            "  0.00603318 0.00598086 0.63619744 0.03536068]\n",
            " [0.06292352 0.19438669 0.00658979 0.04888889 0.01220657 0.02058824\n",
            "  0.02187029 0.05861244 0.07221207 0.68882603]]\n"
          ],
          "name": "stdout"
        },
        {
          "output_type": "display_data",
          "data": {
            "image/png": "[encoded data removed]",
            "text/plain": [
              "<Figure size 432x288 with 2 Axes>"
            ]
          },
          "metadata": {
            "tags": [],
            "needs_background": "light"
          }
        },
        {
          "output_type": "display_data",
          "data": {
            "image/png": "[encoded data removed]",
            "text/plain": [
              "<Figure size 432x288 with 2 Axes>"
            ]
          },
          "metadata": {
            "tags": [],
            "needs_background": "light"
          }
        }
      ]
    },
    {
      "cell_type": "markdown",
      "metadata": {
        "id": "VHkX9Z6q27-4"
      },
      "source": [
        "<a name=\"Appendix\"></a>\n",
        "# Appendix: Computation Graphs"
      ]
    },
    {
      "cell_type": "markdown",
      "metadata": {
        "id": "aaUHTpkpUOHn"
      },
      "source": [
        "A *computation graph* is an abstract graphical representation of a mathematical expression involving variables. Each variable is represented as an edge, and each operation as a node; the graph is directed and acyclic. For instance, the expression $(x + y)^2 + x$ can be represented as:\n",
        "\n",
        "![Computation Graph](https://github.com/harvard-ml-courses/cs181-s21-homeworks/blob/main/hw3/T3_P3_computation_graph.jpg?raw=true)\n",
        "\n",
        "Expressions can be converted into graphs and vice versa. Computation graphs are useful representations in the context of neural networks, because\n",
        "1. They encode all the necessary information for the computation of gradients into discrete units through repeated application of the chain rule, and\n",
        "2. Graphs are easy to implement with code (conceptually, one can imagine storing pointers between nodes)\n",
        "\n",
        "The process in step #1 is known as *automatic differentiation*.\n",
        "\n",
        "If you would like to walk through a computation graph on a small neural network, we recommend [this resource](https://blog.paperspace.com/pytorch-101-understanding-graphs-and-automatic-differentiation/)."
      ]
    },
    {
      "cell_type": "markdown",
      "metadata": {
        "id": "ztTJRpX09z6J"
      },
      "source": [
        "# Appendix: Convolutional Neural Networks"
      ]
    },
    {
      "cell_type": "markdown",
      "metadata": {
        "id": "9fNNaZso91zx"
      },
      "source": [
        "A convolutional neural network (CNN) is a special type of neural network that has \"convolution layers\". CNNs are able to model spatial and temporal dependencies in ordered sequences of input data.\n",
        "\n",
        "The convolution layer of a CNN applies a filter (sometimes referred to as a \"kernel\") to an input to produce an output. \n",
        "\n",
        "Assume without loss of generality that we have two-dimensional input data $x : m \\times n$.  For example, $x$ may be the color of each pixel of a grayscale $m$ by $n$ image.\n",
        "\n",
        "During the forward pass, we slide (or \"convolve\") the filter across the input data.  In most CNNs, the filter is a function of \"regions\" of the data, where individual components of the input are grouped together.  For example, a convolutional filter applied to image data may take into account $3 x 3$ groups of pixels to model dependencies in between adjacent pixels:\n",
        "\n",
        "![CNN sliding window](https://courses.edx.org/assets/courseware/v1/7396a332c596cb606eae215d96301334/asset-v1:MITx+6.871Jx+2T2021+type@asset+block/cnn_sliding_window.gif)\n",
        "\n",
        "This GIF image shows a sliding convolutional 3 x 3 filter, being applied to 3 x 3 segments of a 4 x 4 dataset.\n",
        "\n",
        "source: https://towardsdatascience.com/intuitively-understanding-convolutions-for-deep-learning-1f6f42faee1\n",
        "\n",
        "Another example of a 1-dimensional convolution filter is illustrated by the below GIF:\n",
        "\n",
        "![Convolution operation for a simple (1 x 3) filter](https://studio.edx.org/assets/courseware/v1/20da14e015eac1863451dafe3d456e59/asset-v1:MITx+6.871Jx+2T2021+type@asset+block/cnn.gif)\n",
        "\n",
        "This animation is described below.\n",
        "\n",
        "In this example, the filter $[2, 3, 1]$ is applied as an inner product with the input vector $x = [x_1, x_2, ..., x_{10}]: 1 \\times 10$ which contains annotations of a patient EKG.  Notice here that the filter is applied to 3 successive time-steps of the input vector: the output $y_t$ at time $t$ is equal to $[2, 3, 1] \\cdot [x_t, x_{t + 1}, t_{t + 2}]$.  Therefore the output $y_t$ contains information not only about a single EKG annotation $x_t$, but also about nearby EKG annotations $x_{t + 1}$ and $x_{t + 2}$.\n",
        "\n",
        "We strongly recommend [reading this article](https://adventuresinmachinelearning.com/convolutional-neural-networks-tutorial-in-pytorch/) which walks through how to create a CNN using conv and pooling layers in PyTorch.\n",
        "\n",
        "If you are interested, you can also watch this [MIT lecture](https://www.youtube.com/watch?v=iaSUYvmCekI) on CNNs."
      ]
    }
  ]
}